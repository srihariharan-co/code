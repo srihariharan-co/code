{
  "nbformat": 4,
  "nbformat_minor": 0,
  "metadata": {
    "colab": {
      "provenance": []
    },
    "kernelspec": {
      "name": "python3",
      "display_name": "Python 3"
    },
    "language_info": {
      "name": "python"
    }
  },
  "cells": [
    {
      "cell_type": "code",
      "source": [],
      "metadata": {
        "id": "US7-595ApRhZ"
      },
      "execution_count": null,
      "outputs": []
    },
    {
      "cell_type": "code",
      "execution_count": null,
      "metadata": {
        "colab": {
          "base_uri": "https://localhost:8080/"
        },
        "id": "PYSq6hv7ot6q",
        "outputId": "8183bd81-0619-4e33-92db-19835cbf5fb0"
      },
      "outputs": [
        {
          "output_type": "stream",
          "name": "stdout",
          "text": [
            "Welcome to Hangman!\n",
            "\n",
            "Word: _ _ _ _ _\n",
            "Wrong guesses left: 6\n",
            "Guess a letter: apple\n",
            "Please enter a single letter.\n",
            "\n",
            "Word: _ _ _ _ _\n",
            "Wrong guesses left: 6\n"
          ]
        }
      ],
      "source": [
        "import random\n",
        "\n",
        "\n",
        "words = [\"apple\", \"house\", \"robot\", \"snake\", \"cloud\"]\n",
        "\n",
        "\n",
        "secret_word = random.choice(words)\n",
        "\n",
        "\n",
        "guessed_letters = []\n",
        "wrong_guesses = 0\n",
        "max_guesses = 6\n",
        "\n",
        "\n",
        "def display_word():\n",
        "    displayed = \"\"\n",
        "    for letter in secret_word:\n",
        "        if letter in guessed_letters:\n",
        "            displayed += letter + \" \"\n",
        "        else:\n",
        "            displayed += \"_ \"\n",
        "    return displayed.strip()\n",
        "\n",
        "\n",
        "print(\"Welcome to Hangman!\")\n",
        "while wrong_guesses < max_guesses:\n",
        "    print(\"\\nWord:\", display_word())\n",
        "    print(\"Wrong guesses left:\", max_guesses - wrong_guesses)\n",
        "    guess = input(\"Guess a letter: \").lower()\n",
        "\n",
        "    if len(guess) != 1 or not guess.isalpha():\n",
        "        print(\"Please enter a single letter.\")\n",
        "        continue\n",
        "\n",
        "    if guess in guessed_letters:\n",
        "        print(\"You already guessed that letter.\")\n",
        "        continue\n",
        "\n",
        "    guessed_letters.append(guess)\n",
        "\n",
        "    if guess in secret_word:\n",
        "        print(\"Correct!\")\n",
        "    else:\n",
        "        print(\"Wrong!\")\n",
        "        wrong_guesses += 1\n",
        "\n",
        "    if all(letter in guessed_letters for letter in secret_word):\n",
        "        print(\"\\nCongratulations! You guessed the word:\", secret_word)\n",
        "        break\n",
        "else:\n",
        "    print(\"\\nGame over! The word was:\", secret_word)\n"
      ]
    }
  ]
}