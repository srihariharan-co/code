{
  "nbformat": 4,
  "nbformat_minor": 0,
  "metadata": {
    "colab": {
      "provenance": []
    },
    "kernelspec": {
      "name": "python3",
      "display_name": "Python 3"
    },
    "language_info": {
      "name": "python"
    }
  },
  "cells": [
    {
      "cell_type": "code",
      "execution_count": null,
      "metadata": {
        "colab": {
          "base_uri": "https://localhost:8080/"
        },
        "id": "fo7iYCb95WsX",
        "outputId": "011962d6-b720-42b6-a272-7c9683b7e814"
      },
      "outputs": [
        {
          "name": "stdout",
          "output_type": "stream",
          "text": [
            "Welcome to the Stock Portfolio Tracker!\n",
            "Available stocks: AAPL, TSLA, GOOGL, AMZN, MSFT\n",
            "Enter 'done' when finished.\n",
            "\n",
            "Enter stock symbol: AAPL\n",
            "Enter quantity of AAPL: 12\n",
            "Enter stock symbol: #\n",
            "Stock not available.\n",
            "Enter stock symbol: H\n",
            "Stock not available.\n",
            "Enter stock symbol: DONE\n",
            "\n",
            "Your Portfolio:\n",
            "AAPL: 12 shares x $180 = $2160\n",
            "\n",
            "Total Investment Value: $2160\n",
            "\n",
            "Would you like to save this to a file? (yes/no): yes\n"
          ]
        }
      ],
      "source": [
        "\n",
        "stock_prices = {\n",
        "    \"AAPL\": 180,\n",
        "    \"TSLA\": 250,\n",
        "    \"GOOGL\": 140,\n",
        "    \"AMZN\": 125,\n",
        "    \"MSFT\": 310\n",
        "}\n",
        "\n",
        "portfolio = {}\n",
        "total_value = 0\n",
        "\n",
        "print(\"Welcome to the Stock Portfolio Tracker!\")\n",
        "print(\"Available stocks:\", \", \".join(stock_prices.keys()))\n",
        "print(\"Enter 'done' when finished.\\n\")\n",
        "\n",
        "\n",
        "while True:\n",
        "    stock = input(\"Enter stock symbol: \").upper()\n",
        "    if stock == \"DONE\":\n",
        "        break\n",
        "    if stock not in stock_prices:\n",
        "        print(\"Stock not available.\")\n",
        "        continue\n",
        "\n",
        "    try:\n",
        "        quantity = int(input(f\"Enter quantity of {stock}: \"))\n",
        "        if quantity <= 0:\n",
        "            print(\"Quantity must be positive.\")\n",
        "            continue\n",
        "        portfolio[stock] = quantity\n",
        "    except ValueError:\n",
        "        print(\"Please enter a valid number.\")\n",
        "\n",
        "\n",
        "print(\"\\nYour Portfolio:\")\n",
        "for stock, qty in portfolio.items():\n",
        "    value = qty * stock_prices[stock]\n",
        "    total_value += value\n",
        "    print(f\"{stock}: {qty} shares x ${stock_prices[stock]} = ${value}\")\n",
        "\n",
        "print(f\"\\nTotal Investment Value: ${total_value}\")\n",
        "\n",
        "\n",
        "save = input(\"\\nWould you like to save this to a file? (yes/no): \").lower()\n",
        "if save == \"yes\":\n",
        "    filename = input(\"Enter filename (e.g., portfolio.txt or portfolio.csv): \")\n",
        "    try:\n",
        "        with open(filename, \"w\") as f:\n",
        "            f.write(\"Stock,Quantity,Price,Value\\n\")\n",
        "            for stock, qty in portfolio.items():\n",
        "                price = stock_prices[stock]\n",
        "                value = qty * price\n",
        "                f.write(f\"{stock},{qty},{price},{value}\\n\")\n",
        "            f.write(f\"\\nTotal Investment Value: ${total_value}\")\n",
        "        print(\"Portfolio saved successfully!\")\n",
        "    except Exception as e:\n",
        "        print(\"Error saving file:\", e)\n"
      ]
    }
  ]
}